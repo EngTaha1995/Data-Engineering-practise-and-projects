{
  "cells": [
    {
      "cell_type": "markdown",
      "metadata": {
        "id": "9NLNrH5rfHuR"
      },
      "source": [
        "## write the code to find the number of occurrences of the letter 'o'"
      ]
    },
    {
      "cell_type": "code",
      "execution_count": 1,
      "metadata": {
        "id": "SLPN30tgc1nx"
      },
      "outputs": [
        {
          "name": "stdout",
          "output_type": "stream",
          "text": [
            "2\n"
          ]
        }
      ],
      "source": [
        "s = \"hello world\"\n",
        "n=0\n",
        "for i in s:\n",
        "    if i=='o':\n",
        "        n=n+1\n",
        "\n",
        "print(n)\n"
      ]
    },
    {
      "cell_type": "markdown",
      "metadata": {
        "id": "I32XuPcsfP83"
      },
      "source": [
        "## write the code to find the maximum number in the list."
      ]
    },
    {
      "cell_type": "code",
      "execution_count": 3,
      "metadata": {
        "id": "6siE3UFWfQh0"
      },
      "outputs": [
        {
          "name": "stdout",
          "output_type": "stream",
          "text": [
            "5\n"
          ]
        }
      ],
      "source": [
        "lst = [1, 2, 3, 4, 5]\n",
        "lst.sort\n",
        "print(lst[-1])"
      ]
    },
    {
      "cell_type": "markdown",
      "metadata": {
        "id": "GYAkjtjOfi3k"
      },
      "source": [
        "## write the code to concatenate the tuple elements into a single string"
      ]
    },
    {
      "cell_type": "code",
      "execution_count": 2,
      "metadata": {
        "id": "SQNQ4XvmfdxJ"
      },
      "outputs": [
        {
          "data": {
            "text/plain": [
              "'hello world'"
            ]
          },
          "execution_count": 2,
          "metadata": {},
          "output_type": "execute_result"
        }
      ],
      "source": [
        "tpl = (\"hello\", \" \", \"world\")\n",
        "mystring = ''\n",
        "mystring.join(tpl)"
      ]
    },
    {
      "cell_type": "markdown",
      "metadata": {
        "id": "QqhxtNfpfwDC"
      },
      "source": [
        "## Count Vowles"
      ]
    },
    {
      "cell_type": "code",
      "execution_count": 4,
      "metadata": {
        "id": "JoNwhEk4fxVT"
      },
      "outputs": [
        {
          "name": "stdout",
          "output_type": "stream",
          "text": [
            "3\n"
          ]
        }
      ],
      "source": [
        "s = \"hello world\"\n",
        "vowels = \"aeiouAEIOU\"\n",
        " \n",
        "count = sum(s.count(vowel) for vowel in vowels)\n",
        "print(count)\n"
      ]
    },
    {
      "cell_type": "code",
      "execution_count": null,
      "metadata": {
        "id": "SJx6_wOuf3v-"
      },
      "outputs": [],
      "source": []
    }
  ],
  "metadata": {
    "colab": {
      "provenance": []
    },
    "kernelspec": {
      "display_name": "Python 3",
      "name": "python3"
    },
    "language_info": {
      "codemirror_mode": {
        "name": "ipython",
        "version": 3
      },
      "file_extension": ".py",
      "mimetype": "text/x-python",
      "name": "python",
      "nbconvert_exporter": "python",
      "pygments_lexer": "ipython3",
      "version": "3.12.0"
    }
  },
  "nbformat": 4,
  "nbformat_minor": 0
}
